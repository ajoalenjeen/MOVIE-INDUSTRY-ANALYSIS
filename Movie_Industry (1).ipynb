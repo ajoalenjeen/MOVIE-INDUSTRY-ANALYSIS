{
 "cells": [
  {
   "cell_type": "markdown",
   "id": "9ba7791a-1509-4144-982f-e48385cade97",
   "metadata": {},
   "source": [
    "## MOVIE INDUSTRY ANALYSIS (1980-2020)"
   ]
  },
  {
   "cell_type": "code",
   "execution_count": 554,
   "id": "c7d1ad92-0ab9-4d76-bb3e-de6e9c9a3bdf",
   "metadata": {},
   "outputs": [],
   "source": [
    "#import libraries\n",
    "import pandas as pd\n",
    "import numpy as np\n",
    "import matplotlib\n",
    "import matplotlib.pyplot as plt\n",
    "import seaborn as sns\n",
    "from scipy import stats"
   ]
  },
  {
   "cell_type": "code",
   "execution_count": 555,
   "id": "fa0ccf1b-2b1d-4b61-bbb3-8516dbfa3228",
   "metadata": {},
   "outputs": [],
   "source": [
    "#import data\n",
    "df=pd.read_csv(r\"C:\\Users\\ajoal\\OneDrive\\Desktop\\movies.csv\")\n",
    "df1=df"
   ]
  },
  {
   "cell_type": "code",
   "execution_count": 556,
   "id": "9f3ce422-476b-4371-9ed2-967fbcf8feba",
   "metadata": {},
   "outputs": [
    {
     "data": {
      "text/html": [
       "<div>\n",
       "<style scoped>\n",
       "    .dataframe tbody tr th:only-of-type {\n",
       "        vertical-align: middle;\n",
       "    }\n",
       "\n",
       "    .dataframe tbody tr th {\n",
       "        vertical-align: top;\n",
       "    }\n",
       "\n",
       "    .dataframe thead th {\n",
       "        text-align: right;\n",
       "    }\n",
       "</style>\n",
       "<table border=\"1\" class=\"dataframe\">\n",
       "  <thead>\n",
       "    <tr style=\"text-align: right;\">\n",
       "      <th></th>\n",
       "      <th>name</th>\n",
       "      <th>rating</th>\n",
       "      <th>genre</th>\n",
       "      <th>released</th>\n",
       "      <th>votes</th>\n",
       "      <th>director</th>\n",
       "      <th>writer</th>\n",
       "      <th>star</th>\n",
       "      <th>country</th>\n",
       "      <th>budget</th>\n",
       "      <th>gross</th>\n",
       "      <th>company</th>\n",
       "      <th>runtime</th>\n",
       "    </tr>\n",
       "  </thead>\n",
       "  <tbody>\n",
       "    <tr>\n",
       "      <th>0</th>\n",
       "      <td>The Shining</td>\n",
       "      <td>R</td>\n",
       "      <td>Drama</td>\n",
       "      <td>1980-06-13</td>\n",
       "      <td>927000.0</td>\n",
       "      <td>Stanley Kubrick</td>\n",
       "      <td>Stephen King</td>\n",
       "      <td>Jack Nicholson</td>\n",
       "      <td>United Kingdom</td>\n",
       "      <td>19000000.0</td>\n",
       "      <td>46998772.0</td>\n",
       "      <td>Warner Bros.</td>\n",
       "      <td>146.0</td>\n",
       "    </tr>\n",
       "    <tr>\n",
       "      <th>1</th>\n",
       "      <td>The Blue Lagoon</td>\n",
       "      <td>R</td>\n",
       "      <td>Adventure</td>\n",
       "      <td>1980-07-02</td>\n",
       "      <td>65000.0</td>\n",
       "      <td>Randal Kleiser</td>\n",
       "      <td>Henry De Vere Stacpoole</td>\n",
       "      <td>Brooke Shields</td>\n",
       "      <td>United States</td>\n",
       "      <td>4500000.0</td>\n",
       "      <td>58853106.0</td>\n",
       "      <td>Columbia Pictures</td>\n",
       "      <td>104.0</td>\n",
       "    </tr>\n",
       "    <tr>\n",
       "      <th>2</th>\n",
       "      <td>Star Wars: Episode V - The Empire Strikes Back</td>\n",
       "      <td>PG</td>\n",
       "      <td>Action</td>\n",
       "      <td>1980-06-20</td>\n",
       "      <td>1200000.0</td>\n",
       "      <td>Irvin Kershner</td>\n",
       "      <td>Leigh Brackett</td>\n",
       "      <td>Mark Hamill</td>\n",
       "      <td>United States</td>\n",
       "      <td>18000000.0</td>\n",
       "      <td>538375067.0</td>\n",
       "      <td>Lucasfilm</td>\n",
       "      <td>124.0</td>\n",
       "    </tr>\n",
       "    <tr>\n",
       "      <th>3</th>\n",
       "      <td>Airplane!</td>\n",
       "      <td>PG</td>\n",
       "      <td>Comedy</td>\n",
       "      <td>1980-07-02</td>\n",
       "      <td>221000.0</td>\n",
       "      <td>Jim Abrahams</td>\n",
       "      <td>Jim Abrahams</td>\n",
       "      <td>Robert Hays</td>\n",
       "      <td>United States</td>\n",
       "      <td>3500000.0</td>\n",
       "      <td>83453539.0</td>\n",
       "      <td>Paramount Pictures</td>\n",
       "      <td>88.0</td>\n",
       "    </tr>\n",
       "    <tr>\n",
       "      <th>4</th>\n",
       "      <td>Caddyshack</td>\n",
       "      <td>R</td>\n",
       "      <td>Comedy</td>\n",
       "      <td>1980-07-25</td>\n",
       "      <td>108000.0</td>\n",
       "      <td>Harold Ramis</td>\n",
       "      <td>Brian Doyle-Murray</td>\n",
       "      <td>Chevy Chase</td>\n",
       "      <td>United States</td>\n",
       "      <td>6000000.0</td>\n",
       "      <td>39846344.0</td>\n",
       "      <td>Orion Pictures</td>\n",
       "      <td>98.0</td>\n",
       "    </tr>\n",
       "  </tbody>\n",
       "</table>\n",
       "</div>"
      ],
      "text/plain": [
       "                                             name rating      genre  \\\n",
       "0                                     The Shining      R      Drama   \n",
       "1                                 The Blue Lagoon      R  Adventure   \n",
       "2  Star Wars: Episode V - The Empire Strikes Back     PG     Action   \n",
       "3                                       Airplane!     PG     Comedy   \n",
       "4                                      Caddyshack      R     Comedy   \n",
       "\n",
       "     released      votes         director                   writer  \\\n",
       "0  1980-06-13   927000.0  Stanley Kubrick             Stephen King   \n",
       "1  1980-07-02    65000.0   Randal Kleiser  Henry De Vere Stacpoole   \n",
       "2  1980-06-20  1200000.0   Irvin Kershner           Leigh Brackett   \n",
       "3  1980-07-02   221000.0     Jim Abrahams             Jim Abrahams   \n",
       "4  1980-07-25   108000.0     Harold Ramis       Brian Doyle-Murray   \n",
       "\n",
       "             star         country      budget        gross  \\\n",
       "0  Jack Nicholson  United Kingdom  19000000.0   46998772.0   \n",
       "1  Brooke Shields   United States   4500000.0   58853106.0   \n",
       "2     Mark Hamill   United States  18000000.0  538375067.0   \n",
       "3     Robert Hays   United States   3500000.0   83453539.0   \n",
       "4     Chevy Chase   United States   6000000.0   39846344.0   \n",
       "\n",
       "              company  runtime  \n",
       "0        Warner Bros.    146.0  \n",
       "1   Columbia Pictures    104.0  \n",
       "2           Lucasfilm    124.0  \n",
       "3  Paramount Pictures     88.0  \n",
       "4      Orion Pictures     98.0  "
      ]
     },
     "execution_count": 556,
     "metadata": {},
     "output_type": "execute_result"
    }
   ],
   "source": [
    "df1.head()"
   ]
  },
  {
   "cell_type": "code",
   "execution_count": 564,
   "id": "0fa27805-0cca-4b36-84e0-f48f38ddc555",
   "metadata": {},
   "outputs": [
    {
     "name": "stdout",
     "output_type": "stream",
     "text": [
      "<class 'pandas.core.frame.DataFrame'>\n",
      "RangeIndex: 7668 entries, 0 to 7667\n",
      "Data columns (total 13 columns):\n",
      " #   Column    Non-Null Count  Dtype  \n",
      "---  ------    --------------  -----  \n",
      " 0   name      7668 non-null   object \n",
      " 1   rating    7591 non-null   object \n",
      " 2   genre     7668 non-null   object \n",
      " 3   released  7666 non-null   object \n",
      " 4   votes     7665 non-null   float64\n",
      " 5   director  7668 non-null   object \n",
      " 6   writer    7665 non-null   object \n",
      " 7   star      7667 non-null   object \n",
      " 8   country   7665 non-null   object \n",
      " 9   budget    5497 non-null   float64\n",
      " 10  gross     7479 non-null   float64\n",
      " 11  company   7651 non-null   object \n",
      " 12  runtime   7664 non-null   float64\n",
      "dtypes: float64(4), object(9)\n",
      "memory usage: 778.9+ KB\n"
     ]
    }
   ],
   "source": [
    "#Basic Information\n",
    "df1.info()"
   ]
  },
  {
   "cell_type": "code",
   "execution_count": 558,
   "id": "482bb3f5-9713-4d22-a135-1f5d111178fa",
   "metadata": {},
   "outputs": [
    {
     "data": {
      "text/html": [
       "<div>\n",
       "<style scoped>\n",
       "    .dataframe tbody tr th:only-of-type {\n",
       "        vertical-align: middle;\n",
       "    }\n",
       "\n",
       "    .dataframe tbody tr th {\n",
       "        vertical-align: top;\n",
       "    }\n",
       "\n",
       "    .dataframe thead th {\n",
       "        text-align: right;\n",
       "    }\n",
       "</style>\n",
       "<table border=\"1\" class=\"dataframe\">\n",
       "  <thead>\n",
       "    <tr style=\"text-align: right;\">\n",
       "      <th></th>\n",
       "      <th>votes</th>\n",
       "      <th>budget</th>\n",
       "      <th>gross</th>\n",
       "      <th>runtime</th>\n",
       "    </tr>\n",
       "  </thead>\n",
       "  <tbody>\n",
       "    <tr>\n",
       "      <th>count</th>\n",
       "      <td>7.665000e+03</td>\n",
       "      <td>5.497000e+03</td>\n",
       "      <td>7.479000e+03</td>\n",
       "      <td>7664.000000</td>\n",
       "    </tr>\n",
       "    <tr>\n",
       "      <th>mean</th>\n",
       "      <td>8.810850e+04</td>\n",
       "      <td>3.558988e+07</td>\n",
       "      <td>7.850054e+07</td>\n",
       "      <td>107.261613</td>\n",
       "    </tr>\n",
       "    <tr>\n",
       "      <th>std</th>\n",
       "      <td>1.633238e+05</td>\n",
       "      <td>4.145730e+07</td>\n",
       "      <td>1.657251e+08</td>\n",
       "      <td>18.581247</td>\n",
       "    </tr>\n",
       "    <tr>\n",
       "      <th>min</th>\n",
       "      <td>7.000000e+00</td>\n",
       "      <td>3.000000e+03</td>\n",
       "      <td>3.090000e+02</td>\n",
       "      <td>55.000000</td>\n",
       "    </tr>\n",
       "    <tr>\n",
       "      <th>25%</th>\n",
       "      <td>9.100000e+03</td>\n",
       "      <td>1.000000e+07</td>\n",
       "      <td>4.532056e+06</td>\n",
       "      <td>95.000000</td>\n",
       "    </tr>\n",
       "    <tr>\n",
       "      <th>50%</th>\n",
       "      <td>3.300000e+04</td>\n",
       "      <td>2.050000e+07</td>\n",
       "      <td>2.020576e+07</td>\n",
       "      <td>104.000000</td>\n",
       "    </tr>\n",
       "    <tr>\n",
       "      <th>75%</th>\n",
       "      <td>9.300000e+04</td>\n",
       "      <td>4.500000e+07</td>\n",
       "      <td>7.601669e+07</td>\n",
       "      <td>116.000000</td>\n",
       "    </tr>\n",
       "    <tr>\n",
       "      <th>max</th>\n",
       "      <td>2.400000e+06</td>\n",
       "      <td>3.560000e+08</td>\n",
       "      <td>2.847246e+09</td>\n",
       "      <td>366.000000</td>\n",
       "    </tr>\n",
       "  </tbody>\n",
       "</table>\n",
       "</div>"
      ],
      "text/plain": [
       "              votes        budget         gross      runtime\n",
       "count  7.665000e+03  5.497000e+03  7.479000e+03  7664.000000\n",
       "mean   8.810850e+04  3.558988e+07  7.850054e+07   107.261613\n",
       "std    1.633238e+05  4.145730e+07  1.657251e+08    18.581247\n",
       "min    7.000000e+00  3.000000e+03  3.090000e+02    55.000000\n",
       "25%    9.100000e+03  1.000000e+07  4.532056e+06    95.000000\n",
       "50%    3.300000e+04  2.050000e+07  2.020576e+07   104.000000\n",
       "75%    9.300000e+04  4.500000e+07  7.601669e+07   116.000000\n",
       "max    2.400000e+06  3.560000e+08  2.847246e+09   366.000000"
      ]
     },
     "execution_count": 558,
     "metadata": {},
     "output_type": "execute_result"
    }
   ],
   "source": [
    "df1.describe()"
   ]
  },
  {
   "cell_type": "code",
   "execution_count": 565,
   "id": "5dbac7ba-5a34-4fcd-bc3b-9c61493066fe",
   "metadata": {},
   "outputs": [
    {
     "data": {
      "text/plain": [
       "(7668, 13)"
      ]
     },
     "execution_count": 565,
     "metadata": {},
     "output_type": "execute_result"
    }
   ],
   "source": [
    "#Number of rows and columns\n",
    "df1.shape"
   ]
  },
  {
   "cell_type": "markdown",
   "id": "16b48dc3-9a6c-4945-b2e5-eb703491e62b",
   "metadata": {},
   "source": [
    "### Data Cleaning"
   ]
  },
  {
   "cell_type": "code",
   "execution_count": 566,
   "id": "75941451-d422-43db-92e7-493919d59da4",
   "metadata": {},
   "outputs": [
    {
     "data": {
      "text/html": [
       "<div>\n",
       "<style scoped>\n",
       "    .dataframe tbody tr th:only-of-type {\n",
       "        vertical-align: middle;\n",
       "    }\n",
       "\n",
       "    .dataframe tbody tr th {\n",
       "        vertical-align: top;\n",
       "    }\n",
       "\n",
       "    .dataframe thead th {\n",
       "        text-align: right;\n",
       "    }\n",
       "</style>\n",
       "<table border=\"1\" class=\"dataframe\">\n",
       "  <thead>\n",
       "    <tr style=\"text-align: right;\">\n",
       "      <th></th>\n",
       "      <th>name</th>\n",
       "      <th>rating</th>\n",
       "      <th>genre</th>\n",
       "      <th>released</th>\n",
       "      <th>votes</th>\n",
       "      <th>director</th>\n",
       "      <th>writer</th>\n",
       "      <th>star</th>\n",
       "      <th>country</th>\n",
       "      <th>budget</th>\n",
       "      <th>gross</th>\n",
       "      <th>company</th>\n",
       "      <th>runtime</th>\n",
       "    </tr>\n",
       "  </thead>\n",
       "  <tbody>\n",
       "  </tbody>\n",
       "</table>\n",
       "</div>"
      ],
      "text/plain": [
       "Empty DataFrame\n",
       "Columns: [name, rating, genre, released, votes, director, writer, star, country, budget, gross, company, runtime]\n",
       "Index: []"
      ]
     },
     "execution_count": 566,
     "metadata": {},
     "output_type": "execute_result"
    }
   ],
   "source": [
    "#Check for duplicates\n",
    "df1[df1.duplicated()]"
   ]
  },
  {
   "cell_type": "code",
   "execution_count": 567,
   "id": "5a5fecd6-b559-4ef0-9bec-cff4c3fbcef0",
   "metadata": {},
   "outputs": [
    {
     "data": {
      "text/plain": [
       "name           0\n",
       "rating        77\n",
       "genre          0\n",
       "released       2\n",
       "votes          3\n",
       "director       0\n",
       "writer         3\n",
       "star           1\n",
       "country        3\n",
       "budget      2171\n",
       "gross        189\n",
       "company       17\n",
       "runtime        4\n",
       "dtype: int64"
      ]
     },
     "execution_count": 567,
     "metadata": {},
     "output_type": "execute_result"
    }
   ],
   "source": [
    "#check for missing values\n",
    "df1.isnull().sum()"
   ]
  },
  {
   "cell_type": "code",
   "execution_count": 568,
   "id": "73043a58-be3c-4431-9715-f8a62c2efe04",
   "metadata": {},
   "outputs": [
    {
     "name": "stdout",
     "output_type": "stream",
     "text": [
      "2171\n",
      "189\n"
     ]
    }
   ],
   "source": [
    "#Check for missing values in budget and gross\n",
    "print(df1['budget'].isnull().sum())\n",
    "print(df1['gross'].isnull().sum())"
   ]
  },
  {
   "cell_type": "code",
   "execution_count": 569,
   "id": "832293a8-a3ea-465b-badd-51f19263e838",
   "metadata": {},
   "outputs": [],
   "source": [
    "#Drop the rows that have missing values in budget and gross\n",
    "df1 = df1.dropna(subset=['budget'])\n",
    "df1 = df1.dropna(subset=['gross'])"
   ]
  },
  {
   "cell_type": "code",
   "execution_count": 570,
   "id": "72fd6bba-4702-4430-88bb-65bd1a29fdf4",
   "metadata": {},
   "outputs": [
    {
     "name": "stdout",
     "output_type": "stream",
     "text": [
      "0\n",
      "0\n"
     ]
    }
   ],
   "source": [
    "#check whether it is removed\n",
    "print(df1['budget'].isnull().sum())\n",
    "print(df1['gross'].isnull().sum())"
   ]
  },
  {
   "cell_type": "code",
   "execution_count": 571,
   "id": "1d2292ca-c268-48ec-9fb7-7a52039f1ec5",
   "metadata": {},
   "outputs": [],
   "source": [
    "# Fill missing values in ratings and company columns with \"Unknown\"\n",
    "df1['rating'] = df1['rating'].fillna(\"Unknown\")\n",
    "df1['company'] = df1['company'].fillna(\"Unknown\")"
   ]
  },
  {
   "cell_type": "code",
   "execution_count": 572,
   "id": "052e552e-b09e-4e74-a0bd-911a8c7f1233",
   "metadata": {},
   "outputs": [],
   "source": [
    "# Fill runtime with median runtime\n",
    "df1['runtime'] = df1['runtime'].fillna(df1['runtime'].median())"
   ]
  },
  {
   "cell_type": "code",
   "execution_count": 573,
   "id": "9c9bc178-d97c-47e8-be06-f2f327b47802",
   "metadata": {},
   "outputs": [
    {
     "data": {
      "text/html": [
       "<div>\n",
       "<style scoped>\n",
       "    .dataframe tbody tr th:only-of-type {\n",
       "        vertical-align: middle;\n",
       "    }\n",
       "\n",
       "    .dataframe tbody tr th {\n",
       "        vertical-align: top;\n",
       "    }\n",
       "\n",
       "    .dataframe thead th {\n",
       "        text-align: right;\n",
       "    }\n",
       "</style>\n",
       "<table border=\"1\" class=\"dataframe\">\n",
       "  <thead>\n",
       "    <tr style=\"text-align: right;\">\n",
       "      <th></th>\n",
       "      <th>name</th>\n",
       "      <th>rating</th>\n",
       "      <th>genre</th>\n",
       "      <th>released</th>\n",
       "      <th>votes</th>\n",
       "      <th>director</th>\n",
       "      <th>writer</th>\n",
       "      <th>star</th>\n",
       "      <th>country</th>\n",
       "      <th>budget</th>\n",
       "      <th>gross</th>\n",
       "      <th>company</th>\n",
       "      <th>runtime</th>\n",
       "    </tr>\n",
       "  </thead>\n",
       "  <tbody>\n",
       "    <tr>\n",
       "      <th>7615</th>\n",
       "      <td>Clinton Road</td>\n",
       "      <td>Unknown</td>\n",
       "      <td>Horror</td>\n",
       "      <td>2019-06-14</td>\n",
       "      <td>1900.0</td>\n",
       "      <td>Richard Grieco</td>\n",
       "      <td>Noel Ashman</td>\n",
       "      <td>Ace Young</td>\n",
       "      <td>NaN</td>\n",
       "      <td>2500000.0</td>\n",
       "      <td>50400.0</td>\n",
       "      <td>Growing Tree Productions</td>\n",
       "      <td>77.0</td>\n",
       "    </tr>\n",
       "  </tbody>\n",
       "</table>\n",
       "</div>"
      ],
      "text/plain": [
       "              name   rating   genre    released   votes        director  \\\n",
       "7615  Clinton Road  Unknown  Horror  2019-06-14  1900.0  Richard Grieco   \n",
       "\n",
       "           writer       star country     budget    gross  \\\n",
       "7615  Noel Ashman  Ace Young     NaN  2500000.0  50400.0   \n",
       "\n",
       "                       company  runtime  \n",
       "7615  Growing Tree Productions     77.0  "
      ]
     },
     "execution_count": 573,
     "metadata": {},
     "output_type": "execute_result"
    }
   ],
   "source": [
    "df1[df1['country'].isnull()]"
   ]
  },
  {
   "cell_type": "code",
   "execution_count": 574,
   "id": "cab28b88-0404-46f2-8f71-a48520bc17a2",
   "metadata": {},
   "outputs": [],
   "source": [
    "#Fill country of clinton road movie as united states\n",
    "df1['country'] = df1['country'].fillna(\"United States\")"
   ]
  },
  {
   "cell_type": "code",
   "execution_count": 575,
   "id": "3b111fa7-d4db-4702-9f5d-ea8c5a40b8d4",
   "metadata": {},
   "outputs": [
    {
     "data": {
      "text/html": [
       "<div>\n",
       "<style scoped>\n",
       "    .dataframe tbody tr th:only-of-type {\n",
       "        vertical-align: middle;\n",
       "    }\n",
       "\n",
       "    .dataframe tbody tr th {\n",
       "        vertical-align: top;\n",
       "    }\n",
       "\n",
       "    .dataframe thead th {\n",
       "        text-align: right;\n",
       "    }\n",
       "</style>\n",
       "<table border=\"1\" class=\"dataframe\">\n",
       "  <thead>\n",
       "    <tr style=\"text-align: right;\">\n",
       "      <th></th>\n",
       "      <th>name</th>\n",
       "      <th>rating</th>\n",
       "      <th>genre</th>\n",
       "      <th>released</th>\n",
       "      <th>votes</th>\n",
       "      <th>director</th>\n",
       "      <th>writer</th>\n",
       "      <th>star</th>\n",
       "      <th>country</th>\n",
       "      <th>budget</th>\n",
       "      <th>gross</th>\n",
       "      <th>company</th>\n",
       "      <th>runtime</th>\n",
       "    </tr>\n",
       "  </thead>\n",
       "  <tbody>\n",
       "    <tr>\n",
       "      <th>7615</th>\n",
       "      <td>Clinton Road</td>\n",
       "      <td>Unknown</td>\n",
       "      <td>Horror</td>\n",
       "      <td>2019-06-14</td>\n",
       "      <td>1900.0</td>\n",
       "      <td>Richard Grieco</td>\n",
       "      <td>Noel Ashman</td>\n",
       "      <td>Ace Young</td>\n",
       "      <td>United States</td>\n",
       "      <td>2500000.0</td>\n",
       "      <td>50400.0</td>\n",
       "      <td>Growing Tree Productions</td>\n",
       "      <td>77.0</td>\n",
       "    </tr>\n",
       "  </tbody>\n",
       "</table>\n",
       "</div>"
      ],
      "text/plain": [
       "              name   rating   genre    released   votes        director  \\\n",
       "7615  Clinton Road  Unknown  Horror  2019-06-14  1900.0  Richard Grieco   \n",
       "\n",
       "           writer       star        country     budget    gross  \\\n",
       "7615  Noel Ashman  Ace Young  United States  2500000.0  50400.0   \n",
       "\n",
       "                       company  runtime  \n",
       "7615  Growing Tree Productions     77.0  "
      ]
     },
     "execution_count": 575,
     "metadata": {},
     "output_type": "execute_result"
    }
   ],
   "source": [
    "df1[df1['name']=='Clinton Road']"
   ]
  },
  {
   "cell_type": "code",
   "execution_count": 576,
   "id": "1853a873-fe27-49ad-9393-8afe63ba11ea",
   "metadata": {},
   "outputs": [
    {
     "data": {
      "text/plain": [
       "name        0\n",
       "rating      0\n",
       "genre       0\n",
       "released    0\n",
       "votes       0\n",
       "director    0\n",
       "writer      0\n",
       "star        0\n",
       "country     0\n",
       "budget      0\n",
       "gross       0\n",
       "company     0\n",
       "runtime     0\n",
       "dtype: int64"
      ]
     },
     "execution_count": 576,
     "metadata": {},
     "output_type": "execute_result"
    }
   ],
   "source": [
    "#All missing values has been populated\n",
    "df1.isnull().sum()"
   ]
  },
  {
   "cell_type": "code",
   "execution_count": 577,
   "id": "64c73a3b-c8e7-4dd3-b65f-b877aa52f5fe",
   "metadata": {},
   "outputs": [
    {
     "data": {
      "text/plain": [
       "name         object\n",
       "rating       object\n",
       "genre        object\n",
       "released     object\n",
       "votes       float64\n",
       "director     object\n",
       "writer       object\n",
       "star         object\n",
       "country      object\n",
       "budget      float64\n",
       "gross       float64\n",
       "company      object\n",
       "runtime     float64\n",
       "dtype: object"
      ]
     },
     "execution_count": 577,
     "metadata": {},
     "output_type": "execute_result"
    }
   ],
   "source": [
    "#Data Types of each column\n",
    "df1.dtypes"
   ]
  },
  {
   "cell_type": "code",
   "execution_count": 578,
   "id": "4f665409-272b-462a-bc20-80bc4bb48d2e",
   "metadata": {},
   "outputs": [],
   "source": [
    "#Change the data type of budget and gross\n",
    "df1['budget']=df1['budget'].astype('int64')\n",
    "df1['gross']=df1['gross'].astype('int64')"
   ]
  },
  {
   "cell_type": "code",
   "execution_count": 579,
   "id": "16c1e452-7a81-4363-a366-cc0d294e70dd",
   "metadata": {},
   "outputs": [
    {
     "data": {
      "text/plain": [
       "name         object\n",
       "rating       object\n",
       "genre        object\n",
       "released     object\n",
       "votes       float64\n",
       "director     object\n",
       "writer       object\n",
       "star         object\n",
       "country      object\n",
       "budget        int64\n",
       "gross         int64\n",
       "company      object\n",
       "runtime     float64\n",
       "dtype: object"
      ]
     },
     "execution_count": 579,
     "metadata": {},
     "output_type": "execute_result"
    }
   ],
   "source": [
    "#Verify the change\n",
    "df1.dtypes"
   ]
  },
  {
   "cell_type": "code",
   "execution_count": 580,
   "id": "66229ed3-03bd-4864-8eb7-7c058f237cb2",
   "metadata": {},
   "outputs": [],
   "source": [
    "#Convert release_date to datetime\n",
    "df1['released'] = pd.to_datetime(df1['released'])"
   ]
  },
  {
   "cell_type": "code",
   "execution_count": 581,
   "id": "b51da7b1-3b0e-4cb6-a1a4-a610f05aaacd",
   "metadata": {},
   "outputs": [],
   "source": [
    "#Extract year and month from released\n",
    "df1['release_year'] = df1['released'].dt.year\n",
    "df1['release_month'] = df1['released'].dt.month_name()"
   ]
  },
  {
   "cell_type": "code",
   "execution_count": 582,
   "id": "401c90f0-7b4a-4933-af17-4e86a9c2e380",
   "metadata": {},
   "outputs": [],
   "source": [
    "#Drop the row where year is 1905 because it is not informative to the dataset \n",
    "df1 = df1.drop(df1[df1['release_year'] == 1905].index)"
   ]
  },
  {
   "cell_type": "code",
   "execution_count": 583,
   "id": "55787deb-6845-48f4-8082-ebd299fbaca7",
   "metadata": {},
   "outputs": [],
   "source": [
    "#Add new columns profit and roi\n",
    "df1['profit'] = df1['gross'] - df1['budget']\n",
    "df1['roi'] = df1['profit'] / df1['budget']"
   ]
  },
  {
   "cell_type": "code",
   "execution_count": 584,
   "id": "e622c86f-fb52-4e00-8f5e-7112859eee4d",
   "metadata": {},
   "outputs": [
    {
     "data": {
      "text/plain": [
       "(5431, 17)"
      ]
     },
     "execution_count": 584,
     "metadata": {},
     "output_type": "execute_result"
    }
   ],
   "source": [
    "#New number of rows and columns\n",
    "df1.shape"
   ]
  },
  {
   "cell_type": "code",
   "execution_count": 586,
   "id": "85401b2d-0f82-4d47-acb5-69b670bfa6cd",
   "metadata": {},
   "outputs": [
    {
     "data": {
      "text/html": [
       "<div>\n",
       "<style scoped>\n",
       "    .dataframe tbody tr th:only-of-type {\n",
       "        vertical-align: middle;\n",
       "    }\n",
       "\n",
       "    .dataframe tbody tr th {\n",
       "        vertical-align: top;\n",
       "    }\n",
       "\n",
       "    .dataframe thead th {\n",
       "        text-align: right;\n",
       "    }\n",
       "</style>\n",
       "<table border=\"1\" class=\"dataframe\">\n",
       "  <thead>\n",
       "    <tr style=\"text-align: right;\">\n",
       "      <th></th>\n",
       "      <th>name</th>\n",
       "      <th>rating</th>\n",
       "      <th>genre</th>\n",
       "      <th>released</th>\n",
       "      <th>votes</th>\n",
       "      <th>director</th>\n",
       "      <th>writer</th>\n",
       "      <th>star</th>\n",
       "      <th>country</th>\n",
       "      <th>budget</th>\n",
       "      <th>gross</th>\n",
       "      <th>company</th>\n",
       "      <th>runtime</th>\n",
       "      <th>release_year</th>\n",
       "      <th>release_month</th>\n",
       "      <th>profit</th>\n",
       "      <th>roi</th>\n",
       "    </tr>\n",
       "  </thead>\n",
       "  <tbody>\n",
       "    <tr>\n",
       "      <th>0</th>\n",
       "      <td>The Shining</td>\n",
       "      <td>R</td>\n",
       "      <td>Drama</td>\n",
       "      <td>1980-06-13</td>\n",
       "      <td>927000.0</td>\n",
       "      <td>Stanley Kubrick</td>\n",
       "      <td>Stephen King</td>\n",
       "      <td>Jack Nicholson</td>\n",
       "      <td>United Kingdom</td>\n",
       "      <td>19000000</td>\n",
       "      <td>46998772</td>\n",
       "      <td>Warner Bros.</td>\n",
       "      <td>146.0</td>\n",
       "      <td>1980</td>\n",
       "      <td>June</td>\n",
       "      <td>27998772</td>\n",
       "      <td>1.473620</td>\n",
       "    </tr>\n",
       "    <tr>\n",
       "      <th>1</th>\n",
       "      <td>The Blue Lagoon</td>\n",
       "      <td>R</td>\n",
       "      <td>Adventure</td>\n",
       "      <td>1980-07-02</td>\n",
       "      <td>65000.0</td>\n",
       "      <td>Randal Kleiser</td>\n",
       "      <td>Henry De Vere Stacpoole</td>\n",
       "      <td>Brooke Shields</td>\n",
       "      <td>United States</td>\n",
       "      <td>4500000</td>\n",
       "      <td>58853106</td>\n",
       "      <td>Columbia Pictures</td>\n",
       "      <td>104.0</td>\n",
       "      <td>1980</td>\n",
       "      <td>July</td>\n",
       "      <td>54353106</td>\n",
       "      <td>12.078468</td>\n",
       "    </tr>\n",
       "    <tr>\n",
       "      <th>2</th>\n",
       "      <td>Star Wars: Episode V - The Empire Strikes Back</td>\n",
       "      <td>PG</td>\n",
       "      <td>Action</td>\n",
       "      <td>1980-06-20</td>\n",
       "      <td>1200000.0</td>\n",
       "      <td>Irvin Kershner</td>\n",
       "      <td>Leigh Brackett</td>\n",
       "      <td>Mark Hamill</td>\n",
       "      <td>United States</td>\n",
       "      <td>18000000</td>\n",
       "      <td>538375067</td>\n",
       "      <td>Lucasfilm</td>\n",
       "      <td>124.0</td>\n",
       "      <td>1980</td>\n",
       "      <td>June</td>\n",
       "      <td>520375067</td>\n",
       "      <td>28.909726</td>\n",
       "    </tr>\n",
       "    <tr>\n",
       "      <th>3</th>\n",
       "      <td>Airplane!</td>\n",
       "      <td>PG</td>\n",
       "      <td>Comedy</td>\n",
       "      <td>1980-07-02</td>\n",
       "      <td>221000.0</td>\n",
       "      <td>Jim Abrahams</td>\n",
       "      <td>Jim Abrahams</td>\n",
       "      <td>Robert Hays</td>\n",
       "      <td>United States</td>\n",
       "      <td>3500000</td>\n",
       "      <td>83453539</td>\n",
       "      <td>Paramount Pictures</td>\n",
       "      <td>88.0</td>\n",
       "      <td>1980</td>\n",
       "      <td>July</td>\n",
       "      <td>79953539</td>\n",
       "      <td>22.843868</td>\n",
       "    </tr>\n",
       "    <tr>\n",
       "      <th>4</th>\n",
       "      <td>Caddyshack</td>\n",
       "      <td>R</td>\n",
       "      <td>Comedy</td>\n",
       "      <td>1980-07-25</td>\n",
       "      <td>108000.0</td>\n",
       "      <td>Harold Ramis</td>\n",
       "      <td>Brian Doyle-Murray</td>\n",
       "      <td>Chevy Chase</td>\n",
       "      <td>United States</td>\n",
       "      <td>6000000</td>\n",
       "      <td>39846344</td>\n",
       "      <td>Orion Pictures</td>\n",
       "      <td>98.0</td>\n",
       "      <td>1980</td>\n",
       "      <td>July</td>\n",
       "      <td>33846344</td>\n",
       "      <td>5.641057</td>\n",
       "    </tr>\n",
       "  </tbody>\n",
       "</table>\n",
       "</div>"
      ],
      "text/plain": [
       "                                             name rating      genre  \\\n",
       "0                                     The Shining      R      Drama   \n",
       "1                                 The Blue Lagoon      R  Adventure   \n",
       "2  Star Wars: Episode V - The Empire Strikes Back     PG     Action   \n",
       "3                                       Airplane!     PG     Comedy   \n",
       "4                                      Caddyshack      R     Comedy   \n",
       "\n",
       "    released      votes         director                   writer  \\\n",
       "0 1980-06-13   927000.0  Stanley Kubrick             Stephen King   \n",
       "1 1980-07-02    65000.0   Randal Kleiser  Henry De Vere Stacpoole   \n",
       "2 1980-06-20  1200000.0   Irvin Kershner           Leigh Brackett   \n",
       "3 1980-07-02   221000.0     Jim Abrahams             Jim Abrahams   \n",
       "4 1980-07-25   108000.0     Harold Ramis       Brian Doyle-Murray   \n",
       "\n",
       "             star         country    budget      gross             company  \\\n",
       "0  Jack Nicholson  United Kingdom  19000000   46998772        Warner Bros.   \n",
       "1  Brooke Shields   United States   4500000   58853106   Columbia Pictures   \n",
       "2     Mark Hamill   United States  18000000  538375067           Lucasfilm   \n",
       "3     Robert Hays   United States   3500000   83453539  Paramount Pictures   \n",
       "4     Chevy Chase   United States   6000000   39846344      Orion Pictures   \n",
       "\n",
       "   runtime  release_year release_month     profit        roi  \n",
       "0    146.0          1980          June   27998772   1.473620  \n",
       "1    104.0          1980          July   54353106  12.078468  \n",
       "2    124.0          1980          June  520375067  28.909726  \n",
       "3     88.0          1980          July   79953539  22.843868  \n",
       "4     98.0          1980          July   33846344   5.641057  "
      ]
     },
     "execution_count": 586,
     "metadata": {},
     "output_type": "execute_result"
    }
   ],
   "source": [
    "#Cleaned dataset\n",
    "df1.head()"
   ]
  },
  {
   "cell_type": "markdown",
   "id": "dd271a52-4b6a-4324-9054-9671e6e5280e",
   "metadata": {},
   "source": [
    "### Exploratory Data Analysis"
   ]
  },
  {
   "cell_type": "code",
   "execution_count": 588,
   "id": "05b786ad-ea72-42b4-91de-544d2ca3c676",
   "metadata": {},
   "outputs": [
    {
     "data": {
      "text/html": [
       "<div>\n",
       "<style scoped>\n",
       "    .dataframe tbody tr th:only-of-type {\n",
       "        vertical-align: middle;\n",
       "    }\n",
       "\n",
       "    .dataframe tbody tr th {\n",
       "        vertical-align: top;\n",
       "    }\n",
       "\n",
       "    .dataframe thead th {\n",
       "        text-align: right;\n",
       "    }\n",
       "</style>\n",
       "<table border=\"1\" class=\"dataframe\">\n",
       "  <thead>\n",
       "    <tr style=\"text-align: right;\">\n",
       "      <th></th>\n",
       "      <th>movie_count</th>\n",
       "    </tr>\n",
       "    <tr>\n",
       "      <th>release_year</th>\n",
       "      <th></th>\n",
       "    </tr>\n",
       "  </thead>\n",
       "  <tbody>\n",
       "    <tr>\n",
       "      <th>1980</th>\n",
       "      <td>36</td>\n",
       "    </tr>\n",
       "    <tr>\n",
       "      <th>1981</th>\n",
       "      <td>54</td>\n",
       "    </tr>\n",
       "    <tr>\n",
       "      <th>1982</th>\n",
       "      <td>70</td>\n",
       "    </tr>\n",
       "    <tr>\n",
       "      <th>1983</th>\n",
       "      <td>86</td>\n",
       "    </tr>\n",
       "    <tr>\n",
       "      <th>1984</th>\n",
       "      <td>89</td>\n",
       "    </tr>\n",
       "    <tr>\n",
       "      <th>1985</th>\n",
       "      <td>95</td>\n",
       "    </tr>\n",
       "    <tr>\n",
       "      <th>1986</th>\n",
       "      <td>98</td>\n",
       "    </tr>\n",
       "    <tr>\n",
       "      <th>1987</th>\n",
       "      <td>104</td>\n",
       "    </tr>\n",
       "    <tr>\n",
       "      <th>1988</th>\n",
       "      <td>120</td>\n",
       "    </tr>\n",
       "    <tr>\n",
       "      <th>1989</th>\n",
       "      <td>122</td>\n",
       "    </tr>\n",
       "    <tr>\n",
       "      <th>1990</th>\n",
       "      <td>108</td>\n",
       "    </tr>\n",
       "    <tr>\n",
       "      <th>1991</th>\n",
       "      <td>116</td>\n",
       "    </tr>\n",
       "    <tr>\n",
       "      <th>1992</th>\n",
       "      <td>124</td>\n",
       "    </tr>\n",
       "    <tr>\n",
       "      <th>1993</th>\n",
       "      <td>136</td>\n",
       "    </tr>\n",
       "    <tr>\n",
       "      <th>1994</th>\n",
       "      <td>135</td>\n",
       "    </tr>\n",
       "    <tr>\n",
       "      <th>1995</th>\n",
       "      <td>138</td>\n",
       "    </tr>\n",
       "    <tr>\n",
       "      <th>1996</th>\n",
       "      <td>143</td>\n",
       "    </tr>\n",
       "    <tr>\n",
       "      <th>1997</th>\n",
       "      <td>148</td>\n",
       "    </tr>\n",
       "    <tr>\n",
       "      <th>1998</th>\n",
       "      <td>148</td>\n",
       "    </tr>\n",
       "    <tr>\n",
       "      <th>1999</th>\n",
       "      <td>160</td>\n",
       "    </tr>\n",
       "    <tr>\n",
       "      <th>2000</th>\n",
       "      <td>166</td>\n",
       "    </tr>\n",
       "    <tr>\n",
       "      <th>2001</th>\n",
       "      <td>162</td>\n",
       "    </tr>\n",
       "    <tr>\n",
       "      <th>2002</th>\n",
       "      <td>170</td>\n",
       "    </tr>\n",
       "    <tr>\n",
       "      <th>2003</th>\n",
       "      <td>168</td>\n",
       "    </tr>\n",
       "    <tr>\n",
       "      <th>2004</th>\n",
       "      <td>159</td>\n",
       "    </tr>\n",
       "    <tr>\n",
       "      <th>2005</th>\n",
       "      <td>159</td>\n",
       "    </tr>\n",
       "    <tr>\n",
       "      <th>2006</th>\n",
       "      <td>162</td>\n",
       "    </tr>\n",
       "    <tr>\n",
       "      <th>2007</th>\n",
       "      <td>165</td>\n",
       "    </tr>\n",
       "    <tr>\n",
       "      <th>2008</th>\n",
       "      <td>167</td>\n",
       "    </tr>\n",
       "    <tr>\n",
       "      <th>2009</th>\n",
       "      <td>166</td>\n",
       "    </tr>\n",
       "    <tr>\n",
       "      <th>2010</th>\n",
       "      <td>162</td>\n",
       "    </tr>\n",
       "    <tr>\n",
       "      <th>2011</th>\n",
       "      <td>170</td>\n",
       "    </tr>\n",
       "    <tr>\n",
       "      <th>2012</th>\n",
       "      <td>159</td>\n",
       "    </tr>\n",
       "    <tr>\n",
       "      <th>2013</th>\n",
       "      <td>161</td>\n",
       "    </tr>\n",
       "    <tr>\n",
       "      <th>2014</th>\n",
       "      <td>161</td>\n",
       "    </tr>\n",
       "    <tr>\n",
       "      <th>2015</th>\n",
       "      <td>163</td>\n",
       "    </tr>\n",
       "    <tr>\n",
       "      <th>2016</th>\n",
       "      <td>159</td>\n",
       "    </tr>\n",
       "    <tr>\n",
       "      <th>2017</th>\n",
       "      <td>146</td>\n",
       "    </tr>\n",
       "    <tr>\n",
       "      <th>2018</th>\n",
       "      <td>144</td>\n",
       "    </tr>\n",
       "    <tr>\n",
       "      <th>2019</th>\n",
       "      <td>121</td>\n",
       "    </tr>\n",
       "    <tr>\n",
       "      <th>2020</th>\n",
       "      <td>11</td>\n",
       "    </tr>\n",
       "  </tbody>\n",
       "</table>\n",
       "</div>"
      ],
      "text/plain": [
       "              movie_count\n",
       "release_year             \n",
       "1980                   36\n",
       "1981                   54\n",
       "1982                   70\n",
       "1983                   86\n",
       "1984                   89\n",
       "1985                   95\n",
       "1986                   98\n",
       "1987                  104\n",
       "1988                  120\n",
       "1989                  122\n",
       "1990                  108\n",
       "1991                  116\n",
       "1992                  124\n",
       "1993                  136\n",
       "1994                  135\n",
       "1995                  138\n",
       "1996                  143\n",
       "1997                  148\n",
       "1998                  148\n",
       "1999                  160\n",
       "2000                  166\n",
       "2001                  162\n",
       "2002                  170\n",
       "2003                  168\n",
       "2004                  159\n",
       "2005                  159\n",
       "2006                  162\n",
       "2007                  165\n",
       "2008                  167\n",
       "2009                  166\n",
       "2010                  162\n",
       "2011                  170\n",
       "2012                  159\n",
       "2013                  161\n",
       "2014                  161\n",
       "2015                  163\n",
       "2016                  159\n",
       "2017                  146\n",
       "2018                  144\n",
       "2019                  121\n",
       "2020                   11"
      ]
     },
     "execution_count": 588,
     "metadata": {},
     "output_type": "execute_result"
    }
   ],
   "source": [
    "#Total number of movies released each year\n",
    "df1.groupby('release_year')[['release_year']].count().rename(columns={'release_year': 'movie_count'})"
   ]
  },
  {
   "cell_type": "code",
   "execution_count": 589,
   "id": "80a61ab2-a34d-4193-9ee6-3e47d508bc54",
   "metadata": {},
   "outputs": [
    {
     "data": {
      "text/plain": [
       "genre\n",
       "Comedy       2245\n",
       "Action       1705\n",
       "Drama        1518\n",
       "Crime         551\n",
       "Biography     443\n",
       "Adventure     427\n",
       "Animation     338\n",
       "Horror        322\n",
       "Fantasy        44\n",
       "Mystery        20\n",
       "Thriller       16\n",
       "Family         11\n",
       "Sci-Fi         10\n",
       "Romance        10\n",
       "Western         3\n",
       "Musical         2\n",
       "Music           1\n",
       "History         1\n",
       "Sport           1\n",
       "Name: count, dtype: int64"
      ]
     },
     "execution_count": 589,
     "metadata": {},
     "output_type": "execute_result"
    }
   ],
   "source": [
    "#Number of movies each genre has\n",
    "df['genre'].value_counts()"
   ]
  },
  {
   "cell_type": "code",
   "execution_count": 593,
   "id": "626e801c-251b-4532-a536-e574e1a205a6",
   "metadata": {},
   "outputs": [
    {
     "data": {
      "text/html": [
       "<div>\n",
       "<style scoped>\n",
       "    .dataframe tbody tr th:only-of-type {\n",
       "        vertical-align: middle;\n",
       "    }\n",
       "\n",
       "    .dataframe tbody tr th {\n",
       "        vertical-align: top;\n",
       "    }\n",
       "\n",
       "    .dataframe thead th {\n",
       "        text-align: right;\n",
       "    }\n",
       "</style>\n",
       "<table border=\"1\" class=\"dataframe\">\n",
       "  <thead>\n",
       "    <tr style=\"text-align: right;\">\n",
       "      <th></th>\n",
       "      <th>average_gross</th>\n",
       "    </tr>\n",
       "    <tr>\n",
       "      <th>company</th>\n",
       "      <th></th>\n",
       "    </tr>\n",
       "  </thead>\n",
       "  <tbody>\n",
       "    <tr>\n",
       "      <th>Warner Bros.</th>\n",
       "      <td>54773202654</td>\n",
       "    </tr>\n",
       "    <tr>\n",
       "      <th>Universal Pictures</th>\n",
       "      <td>51241105418</td>\n",
       "    </tr>\n",
       "    <tr>\n",
       "      <th>Columbia Pictures</th>\n",
       "      <td>42356430218</td>\n",
       "    </tr>\n",
       "    <tr>\n",
       "      <th>Paramount Pictures</th>\n",
       "      <td>40021704691</td>\n",
       "    </tr>\n",
       "    <tr>\n",
       "      <th>Twentieth Century Fox</th>\n",
       "      <td>39542573303</td>\n",
       "    </tr>\n",
       "    <tr>\n",
       "      <th>Walt Disney Pictures</th>\n",
       "      <td>35833650748</td>\n",
       "    </tr>\n",
       "    <tr>\n",
       "      <th>New Line Cinema</th>\n",
       "      <td>19628786232</td>\n",
       "    </tr>\n",
       "    <tr>\n",
       "      <th>Marvel Studios</th>\n",
       "      <td>15065592411</td>\n",
       "    </tr>\n",
       "    <tr>\n",
       "      <th>DreamWorks Animation</th>\n",
       "      <td>11873612858</td>\n",
       "    </tr>\n",
       "    <tr>\n",
       "      <th>Dreamworks Pictures</th>\n",
       "      <td>11593807697</td>\n",
       "    </tr>\n",
       "  </tbody>\n",
       "</table>\n",
       "</div>"
      ],
      "text/plain": [
       "                       average_gross\n",
       "company                             \n",
       "Warner Bros.             54773202654\n",
       "Universal Pictures       51241105418\n",
       "Columbia Pictures        42356430218\n",
       "Paramount Pictures       40021704691\n",
       "Twentieth Century Fox    39542573303\n",
       "Walt Disney Pictures     35833650748\n",
       "New Line Cinema          19628786232\n",
       "Marvel Studios           15065592411\n",
       "DreamWorks Animation     11873612858\n",
       "Dreamworks Pictures      11593807697"
      ]
     },
     "execution_count": 593,
     "metadata": {},
     "output_type": "execute_result"
    }
   ],
   "source": [
    "#Top ten companies with high gross\n",
    "df1.groupby('company')[['gross']].sum().sort_values('gross', ascending=False).rename(columns={'gross': 'average_gross'}).head(10)"
   ]
  },
  {
   "cell_type": "code",
   "execution_count": 594,
   "id": "a6ed6e56-c67b-4668-a7b8-35f2421294ad",
   "metadata": {},
   "outputs": [
    {
     "data": {
      "text/html": [
       "<div>\n",
       "<style scoped>\n",
       "    .dataframe tbody tr th:only-of-type {\n",
       "        vertical-align: middle;\n",
       "    }\n",
       "\n",
       "    .dataframe tbody tr th {\n",
       "        vertical-align: top;\n",
       "    }\n",
       "\n",
       "    .dataframe thead th {\n",
       "        text-align: right;\n",
       "    }\n",
       "</style>\n",
       "<table border=\"1\" class=\"dataframe\">\n",
       "  <thead>\n",
       "    <tr style=\"text-align: right;\">\n",
       "      <th></th>\n",
       "      <th>average_gross</th>\n",
       "    </tr>\n",
       "    <tr>\n",
       "      <th>company</th>\n",
       "      <th></th>\n",
       "    </tr>\n",
       "  </thead>\n",
       "  <tbody>\n",
       "    <tr>\n",
       "      <th>Marvel Studios</th>\n",
       "      <td>1.255466e+09</td>\n",
       "    </tr>\n",
       "    <tr>\n",
       "      <th>Illumination Entertainment</th>\n",
       "      <td>1.097122e+09</td>\n",
       "    </tr>\n",
       "    <tr>\n",
       "      <th>Fairview Entertainment</th>\n",
       "      <td>9.665549e+08</td>\n",
       "    </tr>\n",
       "    <tr>\n",
       "      <th>B24</th>\n",
       "      <td>8.806815e+08</td>\n",
       "    </tr>\n",
       "    <tr>\n",
       "      <th>Avi Arad Productions</th>\n",
       "      <td>8.560852e+08</td>\n",
       "    </tr>\n",
       "    <tr>\n",
       "      <th>Chris Morgan Productions</th>\n",
       "      <td>7.590569e+08</td>\n",
       "    </tr>\n",
       "    <tr>\n",
       "      <th>Jolie Pas</th>\n",
       "      <td>7.584118e+08</td>\n",
       "    </tr>\n",
       "    <tr>\n",
       "      <th>Lucasfilm</th>\n",
       "      <td>7.185352e+08</td>\n",
       "    </tr>\n",
       "    <tr>\n",
       "      <th>Marvel Entertainment</th>\n",
       "      <td>7.144215e+08</td>\n",
       "    </tr>\n",
       "    <tr>\n",
       "      <th>Beijing Dengfeng International Culture Communications Company</th>\n",
       "      <td>6.999925e+08</td>\n",
       "    </tr>\n",
       "  </tbody>\n",
       "</table>\n",
       "</div>"
      ],
      "text/plain": [
       "                                                    average_gross\n",
       "company                                                          \n",
       "Marvel Studios                                       1.255466e+09\n",
       "Illumination Entertainment                           1.097122e+09\n",
       "Fairview Entertainment                               9.665549e+08\n",
       "B24                                                  8.806815e+08\n",
       "Avi Arad Productions                                 8.560852e+08\n",
       "Chris Morgan Productions                             7.590569e+08\n",
       "Jolie Pas                                            7.584118e+08\n",
       "Lucasfilm                                            7.185352e+08\n",
       "Marvel Entertainment                                 7.144215e+08\n",
       "Beijing Dengfeng International Culture Communic...   6.999925e+08"
      ]
     },
     "execution_count": 594,
     "metadata": {},
     "output_type": "execute_result"
    }
   ],
   "source": [
    "#Top ten companies with high average gross\n",
    "df1.groupby('company')[['gross']].mean().sort_values('gross', ascending=False).rename(columns={'gross': 'average_gross'}).head(10)"
   ]
  },
  {
   "cell_type": "code",
   "execution_count": 509,
   "id": "f79d6f28-bb39-483f-b39e-b89046d76bdf",
   "metadata": {},
   "outputs": [
    {
     "data": {
      "text/html": [
       "<div>\n",
       "<style scoped>\n",
       "    .dataframe tbody tr th:only-of-type {\n",
       "        vertical-align: middle;\n",
       "    }\n",
       "\n",
       "    .dataframe tbody tr th {\n",
       "        vertical-align: top;\n",
       "    }\n",
       "\n",
       "    .dataframe thead tr th {\n",
       "        text-align: left;\n",
       "    }\n",
       "\n",
       "    .dataframe thead tr:last-of-type th {\n",
       "        text-align: right;\n",
       "    }\n",
       "</style>\n",
       "<table border=\"1\" class=\"dataframe\">\n",
       "  <thead>\n",
       "    <tr>\n",
       "      <th></th>\n",
       "      <th colspan=\"2\" halign=\"left\">profit</th>\n",
       "    </tr>\n",
       "    <tr>\n",
       "      <th></th>\n",
       "      <th>mean</th>\n",
       "      <th>sum</th>\n",
       "    </tr>\n",
       "    <tr>\n",
       "      <th>release_year</th>\n",
       "      <th></th>\n",
       "      <th></th>\n",
       "    </tr>\n",
       "  </thead>\n",
       "  <tbody>\n",
       "    <tr>\n",
       "      <th>1980</th>\n",
       "      <td>3.541366e+07</td>\n",
       "      <td>1274891719</td>\n",
       "    </tr>\n",
       "    <tr>\n",
       "      <th>1981</th>\n",
       "      <td>1.935896e+07</td>\n",
       "      <td>1045384042</td>\n",
       "    </tr>\n",
       "    <tr>\n",
       "      <th>1982</th>\n",
       "      <td>2.803257e+07</td>\n",
       "      <td>1962280086</td>\n",
       "    </tr>\n",
       "    <tr>\n",
       "      <th>1983</th>\n",
       "      <td>1.664390e+07</td>\n",
       "      <td>1431375554</td>\n",
       "    </tr>\n",
       "    <tr>\n",
       "      <th>1984</th>\n",
       "      <td>2.162928e+07</td>\n",
       "      <td>1925006263</td>\n",
       "    </tr>\n",
       "  </tbody>\n",
       "</table>\n",
       "</div>"
      ],
      "text/plain": [
       "                    profit            \n",
       "                      mean         sum\n",
       "release_year                          \n",
       "1980          3.541366e+07  1274891719\n",
       "1981          1.935896e+07  1045384042\n",
       "1982          2.803257e+07  1962280086\n",
       "1983          1.664390e+07  1431375554\n",
       "1984          2.162928e+07  1925006263"
      ]
     },
     "execution_count": 509,
     "metadata": {},
     "output_type": "execute_result"
    }
   ],
   "source": [
    "#Total profit and average profit that movie industry had per year since 1980\n",
    "df1.groupby('release_year')[['profit']].agg(['mean','sum']).head()"
   ]
  },
  {
   "cell_type": "code",
   "execution_count": 537,
   "id": "08605ede-72dd-41ef-91d1-c9ace4d25dab",
   "metadata": {},
   "outputs": [
    {
     "data": {
      "text/html": [
       "<div>\n",
       "<style scoped>\n",
       "    .dataframe tbody tr th:only-of-type {\n",
       "        vertical-align: middle;\n",
       "    }\n",
       "\n",
       "    .dataframe tbody tr th {\n",
       "        vertical-align: top;\n",
       "    }\n",
       "\n",
       "    .dataframe thead th {\n",
       "        text-align: right;\n",
       "    }\n",
       "</style>\n",
       "<table border=\"1\" class=\"dataframe\">\n",
       "  <thead>\n",
       "    <tr style=\"text-align: right;\">\n",
       "      <th></th>\n",
       "      <th>gross</th>\n",
       "    </tr>\n",
       "    <tr>\n",
       "      <th>name</th>\n",
       "      <th></th>\n",
       "    </tr>\n",
       "  </thead>\n",
       "  <tbody>\n",
       "    <tr>\n",
       "      <th>Avatar</th>\n",
       "      <td>2847246203</td>\n",
       "    </tr>\n",
       "    <tr>\n",
       "      <th>Avengers: Endgame</th>\n",
       "      <td>2797501328</td>\n",
       "    </tr>\n",
       "    <tr>\n",
       "      <th>Titanic</th>\n",
       "      <td>2201647264</td>\n",
       "    </tr>\n",
       "    <tr>\n",
       "      <th>Star Wars: Episode VII - The Force Awakens</th>\n",
       "      <td>2069521700</td>\n",
       "    </tr>\n",
       "    <tr>\n",
       "      <th>Avengers: Infinity War</th>\n",
       "      <td>2048359754</td>\n",
       "    </tr>\n",
       "    <tr>\n",
       "      <th>The Lion King</th>\n",
       "      <td>1670727580</td>\n",
       "    </tr>\n",
       "    <tr>\n",
       "      <th>Jurassic World</th>\n",
       "      <td>1670516444</td>\n",
       "    </tr>\n",
       "    <tr>\n",
       "      <th>The Avengers</th>\n",
       "      <td>1518815515</td>\n",
       "    </tr>\n",
       "    <tr>\n",
       "      <th>Furious 7</th>\n",
       "      <td>1515341399</td>\n",
       "    </tr>\n",
       "    <tr>\n",
       "      <th>Frozen II</th>\n",
       "      <td>1450026933</td>\n",
       "    </tr>\n",
       "  </tbody>\n",
       "</table>\n",
       "</div>"
      ],
      "text/plain": [
       "                                                 gross\n",
       "name                                                  \n",
       "Avatar                                      2847246203\n",
       "Avengers: Endgame                           2797501328\n",
       "Titanic                                     2201647264\n",
       "Star Wars: Episode VII - The Force Awakens  2069521700\n",
       "Avengers: Infinity War                      2048359754\n",
       "The Lion King                               1670727580\n",
       "Jurassic World                              1670516444\n",
       "The Avengers                                1518815515\n",
       "Furious 7                                   1515341399\n",
       "Frozen II                                   1450026933"
      ]
     },
     "execution_count": 537,
     "metadata": {},
     "output_type": "execute_result"
    }
   ],
   "source": [
    "#Top ten highest grossing movies\n",
    "df1.sort_values('gross', ascending=False).head(10)[['name','gross']].set_index('name')"
   ]
  },
  {
   "cell_type": "code",
   "execution_count": 597,
   "id": "463f16f6-33d8-4777-8cb1-a616c49bc00d",
   "metadata": {},
   "outputs": [
    {
     "data": {
      "image/png": "[encoded data removed]",
      "text/plain": [
       "<Figure size 1000x600 with 1 Axes>"
      ]
     },
     "metadata": {},
     "output_type": "display_data"
    }
   ],
   "source": [
    "#Plot budget vs gross\n",
    "plt.figure(figsize=(10,6))\n",
    "sns.regplot(x=df1['budget']/1e6, y=df1['gross']/1e6, data=df1, scatter_kws={'color':'grey'}, line_kws={'color':'black'})\n",
    "plt.title('Budget vs Gross Revenue',fontsize=17)\n",
    "plt.xlabel('Budget ($millions)',fontsize=13)\n",
    "plt.ylabel('Gross Revenue ($ millions)',fontsize=13)\n",
    "plt.grid(True, linestyle='--', alpha=0.7)\n",
    "plt.show()"
   ]
  },
  {
   "cell_type": "code",
   "execution_count": 599,
   "id": "c0750b10-6e38-451d-8a5d-36ce9baf031f",
   "metadata": {},
   "outputs": [
    {
     "data": {
      "image/png": "[encoded data removed]",
      "text/plain": [
       "<Figure size 1200x600 with 1 Axes>"
      ]
     },
     "metadata": {},
     "output_type": "display_data"
    }
   ],
   "source": [
    "#Average profit that movie industry had each year since 1980\n",
    "#Group by year\n",
    "avg_profit_per_year = df1.groupby('release_year')[['profit']].mean()\n",
    "\n",
    "#Plot\n",
    "plt.figure(figsize=(12,6))\n",
    "plt.plot(avg_profit_per_year.index, avg_profit_per_year['profit']/1e6, color='grey')\n",
    "    \n",
    "plt.xlabel(\"Release Year\",fontsize=13)\n",
    "plt.ylabel(\"Average Profit ($ millions)\",fontsize=13)\n",
    "plt.title(\"Average Profit per Year\",fontsize=17)\n",
    "plt.xticks(rotation=45)\n",
    "plt.grid(True, linestyle=\"--\", alpha=0.6)\n",
    "plt.show()\n",
    "\n"
   ]
  },
  {
   "cell_type": "code",
   "execution_count": 600,
   "id": "bf9a9542-b655-47f5-9117-3f667b20b8f2",
   "metadata": {},
   "outputs": [
    {
     "data": {
      "image/png": "[encoded data removed]",
      "text/plain": [
       "<Figure size 1200x600 with 1 Axes>"
      ]
     },
     "metadata": {},
     "output_type": "display_data"
    }
   ],
   "source": [
    "#Plot average profit of movie industry by month\n",
    "\n",
    "# Group by month\n",
    "avg_profit_per_month = df1.groupby('release_month')[['profit']].mean().reset_index()\n",
    "\n",
    "# Use categorical type to enforce calendar order\n",
    "months_ordered = [\n",
    "    'January','February','March','April','May','June',\n",
    "    'July','August','September','October','November','December'\n",
    "]\n",
    "\n",
    "avg_profit_per_month['release_month'] = pd.Categorical(\n",
    "    avg_profit_per_month['release_month'], \n",
    "    categories=months_ordered, \n",
    "    ordered=True\n",
    ")\n",
    "\n",
    "# Sort by the defined order\n",
    "avg_profit_per_month = avg_profit_per_month.sort_values('release_month')\n",
    "\n",
    "# Plot\n",
    "plt.figure(figsize=(12,6))\n",
    "plt.bar(avg_profit_per_month['release_month'], avg_profit_per_month['profit']/1e6, color='grey')\n",
    "\n",
    "plt.xlabel(\"Release Month\", fontsize=13)\n",
    "plt.ylabel(\"Average Profit ($ millions)\", fontsize=13)\n",
    "plt.title(\"Average Profit per Month\", fontsize=17)\n",
    "plt.xticks(rotation=45)\n",
    "plt.show()"
   ]
  },
  {
   "cell_type": "code",
   "execution_count": 602,
   "id": "b618951d-7bba-46a0-818e-6b18668d983c",
   "metadata": {},
   "outputs": [
    {
     "data": {
      "image/png": "[encoded data removed]",
      "text/plain": [
       "<Figure size 1200x700 with 1 Axes>"
      ]
     },
     "metadata": {},
     "output_type": "display_data"
    }
   ],
   "source": [
    "#Average profit of each genre\n",
    "avg_profit_per_genre = df1.groupby('genre')[['profit']].mean().sort_values(by='profit', ascending=False)\n",
    "\n",
    "#Plot\n",
    "plt.figure(figsize=(12,7))\n",
    "plt.bar(avg_profit_per_genre.index, avg_profit_per_genre['profit']/1e6, color='grey')\n",
    "\n",
    "plt.xlabel('Genre', fontsize=13)\n",
    "plt.ylabel('Average Profit ($ millions)',fontsize=13)\n",
    "plt.title('Average Profit per Genre',fontsize=17)\n",
    "plt.xticks(rotation=45)\n",
    "plt.show()"
   ]
  },
  {
   "cell_type": "markdown",
   "id": "63c64598-126d-4e68-9417-80b4e6309af5",
   "metadata": {},
   "source": [
    "### Hypothesis Test (Do High-Budget Movies Have Higher ROI?)"
   ]
  },
  {
   "cell_type": "code",
   "execution_count": 545,
   "id": "df4798a0-72fc-4f64-9b56-9da44a1afefa",
   "metadata": {},
   "outputs": [],
   "source": [
    "#Null Hypothesis (H₀): High-budget movies do not have higher ROI than low-budget movies.\n",
    "\n",
    "#Alternative Hypothesis (H₁): High-budget movies have higher ROI than low-budget movies.\n",
    "\n",
    "#Significant value = 0.05"
   ]
  },
  {
   "cell_type": "code",
   "execution_count": 546,
   "id": "fddaeb50-2d15-4552-b5b1-b8e195e7bb51",
   "metadata": {},
   "outputs": [],
   "source": [
    "# Split data into high-budget and low-budget groups\n",
    "median_budget = df1['budget'].median()\n",
    "high_budget = df1[df1['budget'] >= median_budget]['roi']\n",
    "low_budget = df1[df1['budget'] < median_budget]['roi']\n"
   ]
  },
  {
   "cell_type": "code",
   "execution_count": 547,
   "id": "07c8035c-8799-4189-addd-d5f65dde9627",
   "metadata": {},
   "outputs": [
    {
     "name": "stdout",
     "output_type": "stream",
     "text": [
      "T-statistic: -1.6478561523049002\n",
      "Two-sided P-value: 0.09949913133452995\n"
     ]
    }
   ],
   "source": [
    "# Run two-sided test first\n",
    "t_stat, p_val_two_sided = stats.ttest_ind(high_budget, low_budget, equal_var=False)\n",
    "print(\"T-statistic:\", t_stat)\n",
    "print(\"Two-sided P-value:\", p_val_two_sided)"
   ]
  },
  {
   "cell_type": "code",
   "execution_count": 548,
   "id": "22eb4d58-6aa7-476b-9157-1e93a18b8d1a",
   "metadata": {},
   "outputs": [
    {
     "name": "stdout",
     "output_type": "stream",
     "text": [
      "One-sided P-value: 0.950250434332735\n"
     ]
    }
   ],
   "source": [
    "# Convert to one-sided p-value\n",
    "if t_stat > 0:\n",
    "    p_val_one_sided = p_val_two_sided / 2\n",
    "else:\n",
    "    p_val_one_sided = 1 - (p_val_two_sided / 2)\n",
    "\n",
    "print(\"One-sided P-value:\", p_val_one_sided)"
   ]
  },
  {
   "cell_type": "code",
   "execution_count": 552,
   "id": "172d5d2b-705b-402f-ab25-07eade1b39c8",
   "metadata": {},
   "outputs": [
    {
     "name": "stdout",
     "output_type": "stream",
     "text": [
      "Fail to reject H₀ → No significant evidence that high-budget movies earn higher ROI.\n"
     ]
    }
   ],
   "source": [
    "#Result\n",
    "if p_val_one_sided < 0.05:\n",
    "    print(\"Reject H₀ → High-budget movies earn significantly more ROI than low-budget movies.\")\n",
    "else:\n",
    "    print(\"Fail to reject H₀ → No significant evidence that high-budget movies earn higher ROI.\")"
   ]
  },
  {
   "cell_type": "code",
   "execution_count": 553,
   "id": "0dd94560-6944-460b-85c5-60f8160b3baf",
   "metadata": {},
   "outputs": [
    {
     "data": {
      "image/png": "[encoded data removed]",
      "text/plain": [
       "<Figure size 800x500 with 1 Axes>"
      ]
     },
     "metadata": {},
     "output_type": "display_data"
    }
   ],
   "source": [
    "#Plot\n",
    "plt.figure(figsize=(8,5))\n",
    "sns.boxplot(x=['High']*len(high_budget) + ['Low']*len(low_budget), \n",
    "            y=pd.concat([high_budget, low_budget]))\n",
    "plt.title(\"Roi Distribution: High vs Low Budget Movies\")\n",
    "plt.ylabel(\"Roi\")\n",
    "plt.grid(True, linestyle='--', alpha=0.7)\n",
    "plt.show()"
   ]
  },
  {
   "cell_type": "markdown",
   "id": "fc986c19-8927-4d69-951e-149fada11f15",
   "metadata": {},
   "source": [
    "#### Interpretation: \n",
    "##### We fail to reject H₀. There is no statistical evidence that high-budget movies earn higher ROI than low-budget movies. In fact, the negative t-statistic indicates that the mean ROI for high-budget films is slightly lower, though not significantly so.\n",
    "#### Conclusion:\n",
    "##### High-budget movies may bring larger absolute profits, but ROI efficiency is not higher than low-budget films."
   ]
  },
  {
   "cell_type": "code",
   "execution_count": null,
   "id": "13a36018-bfcf-4d3d-b2d7-89cb56a0384f",
   "metadata": {},
   "outputs": [],
   "source": []
  }
 ],
 "metadata": {
  "kernelspec": {
   "display_name": "Python 3 (ipykernel)",
   "language": "python",
   "name": "python3"
  },
  "language_info": {
   "codemirror_mode": {
    "name": "ipython",
    "version": 3
   },
   "file_extension": ".py",
   "mimetype": "text/x-python",
   "name": "python",
   "nbconvert_exporter": "python",
   "pygments_lexer": "ipython3",
   "version": "3.13.5"
  }
 },
 "nbformat": 4,
 "nbformat_minor": 5
}
